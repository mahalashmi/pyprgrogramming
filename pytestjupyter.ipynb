{
 "cells": [
  {
   "cell_type": "code",
   "execution_count": 1,
   "metadata": {},
   "outputs": [
    {
     "name": "stdout",
     "output_type": "stream",
     "text": [
      "20\n"
     ]
    }
   ],
   "source": [
    "a=20\n",
    "print(a)"
   ]
  },
  {
   "cell_type": "code",
   "execution_count": 2,
   "metadata": {},
   "outputs": [],
   "source": [
    "arr = [10, 3, 5, 12, 10]"
   ]
  },
  {
   "cell_type": "code",
   "execution_count": 3,
   "metadata": {},
   "outputs": [
    {
     "name": "stdout",
     "output_type": "stream",
     "text": [
      "0 10\n",
      "1 3\n",
      "2 5\n",
      "3 12\n",
      "4 10\n"
     ]
    }
   ],
   "source": [
    "for index, element in enumerate(arr):\n",
    "    print(f\"{index} {element}\")"
   ]
  },
  {
   "cell_type": "code",
   "execution_count": 4,
   "metadata": {},
   "outputs": [],
   "source": [
    "b = {'abc':10, 'def':20}"
   ]
  },
  {
   "cell_type": "code",
   "execution_count": null,
   "metadata": {},
   "outputs": [],
   "source": []
  },
  {
   "cell_type": "code",
   "execution_count": 5,
   "metadata": {},
   "outputs": [
    {
     "name": "stdout",
     "output_type": "stream",
     "text": [
      "10\n",
      "20\n"
     ]
    }
   ],
   "source": [
    "for i in b.values():\n",
    "    print(i)"
   ]
  },
  {
   "cell_type": "code",
   "execution_count": 6,
   "metadata": {},
   "outputs": [
    {
     "name": "stdout",
     "output_type": "stream",
     "text": [
      "10 is there\n"
     ]
    }
   ],
   "source": [
    "i = 10\n",
    "if i in arr:\n",
    "    print(f\"{i} is there\")\n",
    "else:\n",
    "    print(f\"{i} is not there\")"
   ]
  },
  {
   "cell_type": "code",
   "execution_count": 7,
   "metadata": {},
   "outputs": [
    {
     "name": "stdout",
     "output_type": "stream",
     "text": [
      "Suriya age is 37\n"
     ]
    }
   ],
   "source": [
    "a='Suriya' \n",
    "b=37\n",
    "print(f\"{a} age is {b}\")"
   ]
  },
  {
   "cell_type": "code",
   "execution_count": 8,
   "metadata": {},
   "outputs": [
    {
     "name": "stdout",
     "output_type": "stream",
     "text": [
      "Suriyaage is37\n"
     ]
    }
   ],
   "source": [
    "print(a + \"age is\" + str(b))"
   ]
  },
  {
   "cell_type": "code",
   "execution_count": 9,
   "metadata": {},
   "outputs": [],
   "source": [
    "arr:list[int]=[]\n",
    "for item in range(0,100,2):\n",
    "    arr.append(item) \n",
    "       "
   ]
  },
  {
   "cell_type": "code",
   "execution_count": 10,
   "metadata": {},
   "outputs": [
    {
     "name": "stdout",
     "output_type": "stream",
     "text": [
      "[0, 2, 4, 6, 8, 10, 12, 14, 16, 18, 20, 22, 24, 26, 28, 30, 32, 34, 36, 38, 40, 42, 44, 46, 48, 50, 52, 54, 56, 58, 60, 62, 64, 66, 68, 70, 72, 74, 76, 78, 80, 82, 84, 86, 88, 90, 92, 94, 96, 98]\n"
     ]
    }
   ],
   "source": [
    "print(arr)"
   ]
  },
  {
   "cell_type": "code",
   "execution_count": null,
   "metadata": {},
   "outputs": [],
   "source": []
  },
  {
   "cell_type": "code",
   "execution_count": 11,
   "metadata": {},
   "outputs": [
    {
     "name": "stdout",
     "output_type": "stream",
     "text": [
      "9.8\n"
     ]
    }
   ],
   "source": [
    "number1:float =3.8\n",
    "number2:int =6\n",
    "sum:int = number1+number2\n",
    "print(sum)"
   ]
  },
  {
   "cell_type": "code",
   "execution_count": 12,
   "metadata": {},
   "outputs": [
    {
     "name": "stdout",
     "output_type": "stream",
     "text": [
      "3\n",
      "6\n",
      "9\n",
      "12\n"
     ]
    }
   ],
   "source": [
    "def multiplesof3(n:int):\n",
    "    for i in range(1,n):\n",
    "        multiple:n=i*3\n",
    "        print(multiple)\n",
    "multiplesof3(5)"
   ]
  },
  {
   "cell_type": "code",
   "execution_count": 13,
   "metadata": {},
   "outputs": [
    {
     "name": "stdout",
     "output_type": "stream",
     "text": [
      "magi\n"
     ]
    }
   ],
   "source": [
    "print(\"magi\")"
   ]
  },
  {
   "cell_type": "code",
   "execution_count": 29,
   "metadata": {},
   "outputs": [
    {
     "name": "stdout",
     "output_type": "stream",
     "text": [
      "suriya\n"
     ]
    }
   ],
   "source": [
    "name = \"magi\"\n",
    "print(name.replace(\"magi\",\"suriya\"))"
   ]
  },
  {
   "cell_type": "code",
   "execution_count": 31,
   "metadata": {},
   "outputs": [
    {
     "name": "stdout",
     "output_type": "stream",
     "text": [
      "suriya hi\n"
     ]
    }
   ],
   "source": [
    "name = input(\"Enter your name\")\n",
    "print(name + \" \"+\"hi\")"
   ]
  },
  {
   "cell_type": "code",
   "execution_count": 39,
   "metadata": {},
   "outputs": [
    {
     "name": "stdout",
     "output_type": "stream",
     "text": [
      "['gopi', 'suri']\n",
      "['gopi', 'suri', 45, 78, 9, 4]\n"
     ]
    }
   ],
   "source": [
    "family = [\"magi\",\"suri\"]\n",
    "family[0] = \"gopi\"\n",
    "print(family)\n",
    "age = [45,78,9,4]\n",
    "family.extend(age)\n",
    "print(family)\n"
   ]
  },
  {
   "cell_type": "code",
   "execution_count": 40,
   "metadata": {},
   "outputs": [
    {
     "name": "stdout",
     "output_type": "stream",
     "text": [
      "['gopi', 'suri', 45, 78, 9, 4, 'riya']\n"
     ]
    }
   ],
   "source": [
    "family.append(\"riya\")\n",
    "print(family)"
   ]
  },
  {
   "cell_type": "code",
   "execution_count": 41,
   "metadata": {},
   "outputs": [
    {
     "name": "stdout",
     "output_type": "stream",
     "text": [
      "['gopi', 'magi', 'suri', 45, 78, 9, 4, 'riya']\n"
     ]
    }
   ],
   "source": [
    "family.insert(1,\"magi\")\n",
    "print(family)"
   ]
  },
  {
   "cell_type": "code",
   "execution_count": 43,
   "metadata": {},
   "outputs": [
    {
     "name": "stdout",
     "output_type": "stream",
     "text": [
      "['magi']\n"
     ]
    }
   ],
   "source": [
    "family.append(\"magi\")\n",
    "print(family)"
   ]
  },
  {
   "cell_type": "code",
   "execution_count": 44,
   "metadata": {},
   "outputs": [
    {
     "name": "stdout",
     "output_type": "stream",
     "text": [
      "['magi', 'magi']\n"
     ]
    }
   ],
   "source": [
    "family.append(\"magi\")\n",
    "print(family)"
   ]
  },
  {
   "cell_type": "code",
   "execution_count": 46,
   "metadata": {},
   "outputs": [
    {
     "name": "stdout",
     "output_type": "stream",
     "text": [
      "2\n",
      "['magi', 'magi']\n"
     ]
    }
   ],
   "source": [
    "print(family.count(\"magi\"))\n",
    "print(family)"
   ]
  },
  {
   "cell_type": "code",
   "execution_count": 51,
   "metadata": {},
   "outputs": [
    {
     "name": "stdout",
     "output_type": "stream",
     "text": [
      "hellomaha89\n"
     ]
    }
   ],
   "source": [
    "def hello(name,age):\n",
    "    print(\"hello\" + name + str(age))\n",
    "hello(\"maha\",89)"
   ]
  },
  {
   "cell_type": "code",
   "execution_count": 52,
   "metadata": {},
   "outputs": [
    {
     "name": "stdout",
     "output_type": "stream",
     "text": [
      "27\n"
     ]
    }
   ],
   "source": [
    "def cube(num):\n",
    "    return num*num*num\n",
    "print(cube(3))"
   ]
  },
  {
   "cell_type": "code",
   "execution_count": 54,
   "metadata": {},
   "outputs": [
    {
     "name": "stdout",
     "output_type": "stream",
     "text": [
      "m\n",
      "a\n",
      "g\n",
      "i\n"
     ]
    }
   ],
   "source": [
    "for letter in \"magi\":\n",
    "    print(letter)"
   ]
  },
  {
   "cell_type": "code",
   "execution_count": 59,
   "metadata": {},
   "outputs": [
    {
     "name": "stdout",
     "output_type": "stream",
     "text": [
      "magi\n"
     ]
    }
   ],
   "source": [
    "for i in range(1,len(family)):\n",
    "    if i ==0:\n",
    "        print(\"first\")\n",
    "    else:\n",
    "        print(\"not first\")\n",
    "    print(family[i])"
   ]
  }
 ],
 "metadata": {
  "kernelspec": {
   "display_name": "venv",
   "language": "python",
   "name": "python3"
  },
  "language_info": {
   "codemirror_mode": {
    "name": "ipython",
    "version": 3
   },
   "file_extension": ".py",
   "mimetype": "text/x-python",
   "name": "python",
   "nbconvert_exporter": "python",
   "pygments_lexer": "ipython3",
   "version": "3.10.11"
  }
 },
 "nbformat": 4,
 "nbformat_minor": 2
}
